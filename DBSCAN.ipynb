{
  "nbformat": 4,
  "nbformat_minor": 0,
  "metadata": {
    "colab": {
      "provenance": []
    },
    "kernelspec": {
      "name": "python3",
      "display_name": "Python 3"
    },
    "language_info": {
      "name": "python"
    }
  },
  "cells": [
    {
      "cell_type": "code",
      "execution_count": 1,
      "metadata": {
        "id": "3DNLUdC7v_cf"
      },
      "outputs": [],
      "source": [
        "# Function to calculate Euclidean distance\n",
        "def euclidean_distance(point1, point2):\n",
        "    return ((point2[1] - point1[1]) ** 2 + (point2[0] - point1[0]) ** 2) ** 0.5\n"
      ]
    },
    {
      "cell_type": "code",
      "source": [
        "# Function to create dissimilarity matrix\n",
        "def create_dissimilarity_matrix(points):\n",
        "    num_points = len(points)\n",
        "    dissimilarity_matrix = [[0 for _ in range(num_points)] for _ in range(num_points)]\n",
        "\n",
        "    for i in range(num_points):\n",
        "        for j in range(i + 1, num_points):\n",
        "            distance = euclidean_distance(points[i], points[j])\n",
        "            dissimilarity_matrix[i][j] = distance\n",
        "            dissimilarity_matrix[j][i] = distance\n",
        "\n",
        "    return dissimilarity_matrix\n"
      ],
      "metadata": {
        "id": "9hziM3ohwDo2"
      },
      "execution_count": 2,
      "outputs": []
    },
    {
      "cell_type": "code",
      "source": [
        "# Function to create cluster groups using DBSCAN\n",
        "def dbscan_clustering(dissimilarity_matrix, eps, minPts):\n",
        "    num_points = len(dissimilarity_matrix)\n",
        "    cluster_groups = []\n",
        "\n",
        "    for i in range(num_points):\n",
        "        horiz_neighbors = []\n",
        "        vert_neighbors = []\n",
        "\n",
        "        # Check horizontally for core points\n",
        "        for j in range(num_points):\n",
        "            if dissimilarity_matrix[i][j] < eps:\n",
        "                horiz_neighbors.append(j)\n",
        "\n",
        "        # Check vertically for core points\n",
        "        for j in range(num_points):\n",
        "            if dissimilarity_matrix[j][i] < eps:\n",
        "                vert_neighbors.append(j)\n",
        "\n",
        "        core_point_neighbors = set(horiz_neighbors) | set(vert_neighbors)\n",
        "\n",
        "        if len(core_point_neighbors) >= minPts:  # Include itself as well\n",
        "            cluster_groups.append((i, core_point_neighbors))\n",
        "\n",
        "    return cluster_groups\n"
      ],
      "metadata": {
        "id": "oinoyh4iwG0m"
      },
      "execution_count": 3,
      "outputs": []
    },
    {
      "cell_type": "code",
      "source": [
        "# Function to find noise points\n",
        "def find_noise_points(points, clustered_core_points):\n",
        "    all_points = set(range(len(points)))\n",
        "    clustered_points = set()\n",
        "    for _, neighbors in clustered_core_points:\n",
        "        clustered_points |= neighbors\n",
        "    noise_points = all_points - clustered_points\n",
        "    return noise_points\n"
      ],
      "metadata": {
        "id": "KteRlLZOwKp5"
      },
      "execution_count": 4,
      "outputs": []
    },
    {
      "cell_type": "code",
      "source": [
        "# User Inputs for Dissimilarity Matrix\n",
        "num_points = int(input(\"Enter the number of data points: \"))\n",
        "points = []\n",
        "for i in range(1, num_points + 1):\n",
        "    point = tuple(map(float, input(f\"Enter coordinates of point P{i} (e.g., x y): \").split()))\n",
        "    points.append(point)\n"
      ],
      "metadata": {
        "colab": {
          "base_uri": "https://localhost:8080/"
        },
        "id": "BZqxUY0ewN8f",
        "outputId": "6b98cd29-adda-48e3-b3da-f20fa70bf172"
      },
      "execution_count": 5,
      "outputs": [
        {
          "name": "stdout",
          "output_type": "stream",
          "text": [
            "Enter the number of data points: 12\n",
            "Enter coordinates of point P1 (e.g., x y): 3 7\n",
            "Enter coordinates of point P2 (e.g., x y): 4 6\n",
            "Enter coordinates of point P3 (e.g., x y): 5 5\n",
            "Enter coordinates of point P4 (e.g., x y): 6 4\n",
            "Enter coordinates of point P5 (e.g., x y): 7 3\n",
            "Enter coordinates of point P6 (e.g., x y): 6 2\n",
            "Enter coordinates of point P7 (e.g., x y): 7 2\n",
            "Enter coordinates of point P8 (e.g., x y): 8 4\n",
            "Enter coordinates of point P9 (e.g., x y): 3 3\n",
            "Enter coordinates of point P10 (e.g., x y): 2 6\n",
            "Enter coordinates of point P11 (e.g., x y): 3 5\n",
            "Enter coordinates of point P12 (e.g., x y): 2 4\n"
          ]
        }
      ]
    },
    {
      "cell_type": "code",
      "source": [
        "# Create Dissimilarity Matrix\n",
        "dissimilarity_matrix = create_dissimilarity_matrix(points)\n"
      ],
      "metadata": {
        "id": "6O3dGMtxwn_1"
      },
      "execution_count": 6,
      "outputs": []
    },
    {
      "cell_type": "code",
      "source": [
        "# User Input for DBSCAN Clustering\n",
        "eps = float(input(\"Enter the epsilon (eps) value: \"))\n",
        "minPts = int(input(\"Enter the minimum points (minPts) value: \"))\n"
      ],
      "metadata": {
        "colab": {
          "base_uri": "https://localhost:8080/"
        },
        "id": "8d0XpmnZwr6R",
        "outputId": "abc798d6-3390-4827-cef0-5388c8116cf1"
      },
      "execution_count": 7,
      "outputs": [
        {
          "name": "stdout",
          "output_type": "stream",
          "text": [
            "Enter the epsilon (eps) value: 1.9\n",
            "Enter the minimum points (minPts) value: 4\n"
          ]
        }
      ]
    },
    {
      "cell_type": "code",
      "source": [
        "# DBSCAN Clustering\n",
        "cluster_groups = dbscan_clustering(dissimilarity_matrix, eps, minPts)\n"
      ],
      "metadata": {
        "id": "E-qrVjBQw29m"
      },
      "execution_count": 8,
      "outputs": []
    },
    {
      "cell_type": "code",
      "source": [
        "# Print Cluster Groups with MinPts\n",
        "print(f\"Cluster Groups with MinPts = {minPts}:\")\n",
        "for core_point, neighbors in cluster_groups:\n",
        "    if len(neighbors) >= minPts:\n",
        "        core_point_label = f\"P{core_point+1}\"\n",
        "        neighbor_labels = ', '.join(f\"P{neighbor+1}\" for neighbor in neighbors)\n",
        "        print(f\"Core Point: {core_point_label} | Neighbors: {neighbor_labels}\")\n"
      ],
      "metadata": {
        "colab": {
          "base_uri": "https://localhost:8080/"
        },
        "id": "PQqbDdPXw8ZM",
        "outputId": "d6afd06e-ef7a-4e98-9016-0e9f99fd6d7e"
      },
      "execution_count": 9,
      "outputs": [
        {
          "output_type": "stream",
          "name": "stdout",
          "text": [
            "Cluster Groups with MinPts = 4:\n",
            "Core Point: P2 | Neighbors: P1, P2, P3, P11\n",
            "Core Point: P5 | Neighbors: P4, P5, P6, P7, P8\n",
            "Core Point: P11 | Neighbors: P2, P10, P11, P12\n"
          ]
        }
      ]
    },
    {
      "cell_type": "code",
      "source": [
        "# Find Noise Points\n",
        "noise_points = find_noise_points(points, cluster_groups)\n",
        "\n",
        "# Print Noise Points\n",
        "if noise_points:\n",
        "    print(\"\\nNoise Points:\")\n",
        "    for point in noise_points:\n",
        "        point_label = f\"P{point+1}\"\n",
        "        print(f\"Noise Point: {point_label}\")\n",
        "else:\n",
        "    print(\"\\nNo Noise Points\")\n"
      ],
      "metadata": {
        "colab": {
          "base_uri": "https://localhost:8080/"
        },
        "id": "g9nZsadjw-9d",
        "outputId": "2110f240-cfb7-4ee0-c462-70cde9867b5a"
      },
      "execution_count": 10,
      "outputs": [
        {
          "output_type": "stream",
          "name": "stdout",
          "text": [
            "\n",
            "Noise Points:\n",
            "Noise Point: P9\n"
          ]
        }
      ]
    }
  ]
}
